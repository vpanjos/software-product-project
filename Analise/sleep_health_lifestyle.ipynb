{
 "cells": [
  {
   "cell_type": "markdown",
   "id": "5e517162-c651-45c5-b320-85ac9ff691b4",
   "metadata": {},
   "source": [
    "# Análise de dados sobre Saúde do sono e Estilo de vida"
   ]
  },
  {
   "cell_type": "markdown",
   "id": "e0705ebb-20ee-442e-b554-3fbf08eb9007",
   "metadata": {},
   "source": [
    "O Conjunto de Dados de Saúde do Sono e Estilo de Vida compreende aproximadamente 400 linhas e 13 colunas, abrangendo dados relacionadas ao sono e aos hábitos diários. Incluindo detalhes como gênero, idade, ocupação, duração do sono, qualidade do sono, nível de atividade física, níveis de estresse, categoria de IMC, pressão arterial, frequência cardíaca, passos diários e a presença ou ausência de distúrbios do sono.\n",
    "\n",
    "Nesta primeira análise, iremos explorar as correlações entre distúrbio de sono e outras variáveis.\n"
   ]
  },
  {
   "cell_type": "markdown",
   "id": "3fbd57a5-d0b9-4edb-adb6-8f99c7a16789",
   "metadata": {},
   "source": [
    "## Parte 1 - Configuração do ambiente"
   ]
  },
  {
   "cell_type": "markdown",
   "id": "25afcd02-0b04-47fa-b885-1625605d62d7",
   "metadata": {},
   "source": [
    "### Importar bibliotecas"
   ]
  },
  {
   "cell_type": "markdown",
   "id": "12a46dd0-becd-4b08-8c26-e114f20350da",
   "metadata": {},
   "source": [
    "Download dos pacotes python"
   ]
  },
  {
   "cell_type": "code",
   "execution_count": null,
   "id": "553fd12f-3366-40de-b86f-b6ab79d83a73",
   "metadata": {},
   "outputs": [],
   "source": [
    "#pip install kagglehub\n",
    "#pip install pandas\n",
    "#pip install matplotlib"
   ]
  },
  {
   "cell_type": "code",
   "execution_count": null,
   "id": "30158509-b298-44f0-9f7e-1b30e3a8e2d5",
   "metadata": {},
   "outputs": [],
   "source": [
    "#Reading data\n",
    "import pandas as pd\n",
    "\n",
    "# Data source\n",
    "import kagglehub\n",
    "\n",
    "#For mathematical operations\n",
    "import numpy as np\n",
    "\n",
    "#Visualisation\n",
    "import matplotlib.pyplot as plt\n",
    "import seaborn as sns\n",
    "import seaborn as sns"
   ]
  },
  {
   "cell_type": "markdown",
   "id": "57498a8c-35e3-4fc3-8acb-33e58b5efaf4",
   "metadata": {},
   "source": [
    "## Parte 2 - Informações sobre os dados"
   ]
  },
  {
   "cell_type": "markdown",
   "id": "295e323c-5abc-4e78-a41b-1c7c9f6b73ac",
   "metadata": {},
   "source": [
    "### Importar base de dados"
   ]
  },
  {
   "cell_type": "markdown",
   "id": "f5f581be-469e-46dd-bf9d-7bfb6f8735bd",
   "metadata": {},
   "source": [
    "- Fonte pública: https://www.kaggle.com/datasets/uom190346a/sleep-health-and-lifestyle-dataset"
   ]
  },
  {
   "cell_type": "code",
   "execution_count": null,
   "id": "2259e3a4-067b-4318-80e8-71d2a008292f",
   "metadata": {},
   "outputs": [],
   "source": [
    "# Download latest version\n",
    "path = kagglehub.dataset_download(\"uom190346a/sleep-health-and-lifestyle-dataset\")\n",
    "\n",
    "print(\"Path to dataset files:\", path)"
   ]
  },
  {
   "cell_type": "markdown",
   "id": "5355a312-25c9-41f1-8f5d-3763b39a54ee",
   "metadata": {},
   "source": [
    "### Lendo os dados"
   ]
  },
  {
   "cell_type": "markdown",
   "id": "3737cbdf-3ac8-47fe-9472-ec952b80757f",
   "metadata": {},
   "source": [
    "**Detalhes sobre a Coluna de Distúrbios do Sono:**\n",
    "- None: O indivíduo não apresenta nenhum distúrbio específico do sono.\n",
    "- Insomnia : O indivíduo tem dificuldade para adormecer ou permanecer dormindo, resultando em sono inadequado ou de má qualidade.\n",
    "- Sleep Apnea : O indivíduo sofre de pausas na respiração durante o sono, causando padrões de sono interrompidos e possíveis riscos à saúde.\n"
   ]
  },
  {
   "cell_type": "code",
   "execution_count": null,
   "id": "3bcb575a-158f-4405-a8fd-d01d92fdc81e",
   "metadata": {},
   "outputs": [],
   "source": [
    "raw_df = pd.read_csv('../dados/Sleep_health_and_lifestyle_dataset.csv') \n",
    "sleep_df = pd.DataFrame(raw_df)"
   ]
  },
  {
   "cell_type": "markdown",
   "id": "af0f67b1-77ef-4da7-96f9-2636127e2487",
   "metadata": {},
   "source": [
    "### Detalhe das colunas\n",
    "Person ID: Um identificador para cada indivíduo.\n",
    "\n",
    "Gender: O gênero da pessoa (Masculino/Feminino).\n",
    "\n",
    "Age: A idade da pessoa em anos.\n",
    "\n",
    "Occupation: A ocupação ou profissão da pessoa.\n",
    "\n",
    "Sleep Duration (horas): O número de horas que a pessoa dorme por dia.\n",
    "\n",
    "Quality of Sleep (escala: 1-10): Uma avaliação subjetiva da qualidade do sono, variando de 1 a 10.\n",
    "\n",
    "Physical Activity Level (minutos/dia): O número de minutos que a pessoa se engaja em atividade física diariamente.\n",
    "\n",
    "Stress Level (escala: 1-10): Uma avaliação subjetiva do nível de estresse experimentado pela pessoa, variando de 1 a 10.\n",
    "\n",
    "BMI Category (IMC): A categoria de IMC da pessoa (por exemplo, Subpeso, Normal, Sobrepeso).\n",
    "\n",
    "Blood Pressure (sistólica/diastólica): A medição da pressão arterial da pessoa, indicada como pressão sistólica sobre pressão diastólica.\n",
    "\n",
    "Heart Rate (bpm): A frequência cardíaca em repouso da pessoa em batimentos por minuto.\n",
    "\n",
    "Daily Steps: O número de passos que a pessoa dá por dia.\n",
    "\n",
    "Sleep Disorder: A presença ou ausência de um distúrbio do sono na pessoa (Nenhum, Insônia, Apneia do Sono).\n"
   ]
  },
  {
   "cell_type": "code",
   "execution_count": 211,
   "id": "f1441121-2fc4-4cee-bf09-2462d354d741",
   "metadata": {},
   "outputs": [
    {
     "name": "stdout",
     "output_type": "stream",
     "text": [
      "     Person ID  Gender  Age            Occupation  Sleep Duration  \\\n",
      "0            1    Male   27     Software Engineer             6.1   \n",
      "1            2    Male   28                Doctor             6.2   \n",
      "2            3    Male   28                Doctor             6.2   \n",
      "3            4    Male   28  Sales Representative             5.9   \n",
      "4            5    Male   28  Sales Representative             5.9   \n",
      "..         ...     ...  ...                   ...             ...   \n",
      "369        370  Female   59                 Nurse             8.1   \n",
      "370        371  Female   59                 Nurse             8.0   \n",
      "371        372  Female   59                 Nurse             8.1   \n",
      "372        373  Female   59                 Nurse             8.1   \n",
      "373        374  Female   59                 Nurse             8.1   \n",
      "\n",
      "     Quality of Sleep  Physical Activity Level  Stress Level BMI Category  \\\n",
      "0                   6                       42             6   Overweight   \n",
      "1                   6                       60             8       Normal   \n",
      "2                   6                       60             8       Normal   \n",
      "3                   4                       30             8        Obese   \n",
      "4                   4                       30             8        Obese   \n",
      "..                ...                      ...           ...          ...   \n",
      "369                 9                       75             3   Overweight   \n",
      "370                 9                       75             3   Overweight   \n",
      "371                 9                       75             3   Overweight   \n",
      "372                 9                       75             3   Overweight   \n",
      "373                 9                       75             3   Overweight   \n",
      "\n",
      "    Blood Pressure  Heart Rate  Daily Steps Sleep Disorder  \n",
      "0           126/83          77         4200            NaN  \n",
      "1           125/80          75        10000            NaN  \n",
      "2           125/80          75        10000            NaN  \n",
      "3           140/90          85         3000    Sleep Apnea  \n",
      "4           140/90          85         3000    Sleep Apnea  \n",
      "..             ...         ...          ...            ...  \n",
      "369         140/95          68         7000    Sleep Apnea  \n",
      "370         140/95          68         7000    Sleep Apnea  \n",
      "371         140/95          68         7000    Sleep Apnea  \n",
      "372         140/95          68         7000    Sleep Apnea  \n",
      "373         140/95          68         7000    Sleep Apnea  \n",
      "\n",
      "[374 rows x 13 columns]\n"
     ]
    }
   ],
   "source": [
    "print(sleep_df)"
   ]
  },
  {
   "cell_type": "code",
   "execution_count": 213,
   "id": "b800849c-fa15-4530-9f35-2219984ebf92",
   "metadata": {},
   "outputs": [
    {
     "name": "stdout",
     "output_type": "stream",
     "text": [
      "<class 'pandas.core.frame.DataFrame'>\n",
      "RangeIndex: 374 entries, 0 to 373\n",
      "Data columns (total 13 columns):\n",
      " #   Column                   Non-Null Count  Dtype  \n",
      "---  ------                   --------------  -----  \n",
      " 0   Person ID                374 non-null    int64  \n",
      " 1   Gender                   374 non-null    object \n",
      " 2   Age                      374 non-null    int64  \n",
      " 3   Occupation               374 non-null    object \n",
      " 4   Sleep Duration           374 non-null    float64\n",
      " 5   Quality of Sleep         374 non-null    int64  \n",
      " 6   Physical Activity Level  374 non-null    int64  \n",
      " 7   Stress Level             374 non-null    int64  \n",
      " 8   BMI Category             374 non-null    object \n",
      " 9   Blood Pressure           374 non-null    object \n",
      " 10  Heart Rate               374 non-null    int64  \n",
      " 11  Daily Steps              374 non-null    int64  \n",
      " 12  Sleep Disorder           155 non-null    object \n",
      "dtypes: float64(1), int64(7), object(5)\n",
      "memory usage: 38.1+ KB\n"
     ]
    }
   ],
   "source": [
    "sleep_df.info()"
   ]
  },
  {
   "cell_type": "code",
   "execution_count": 215,
   "id": "552c4756-224c-4be2-a089-9855103f14c4",
   "metadata": {},
   "outputs": [
    {
     "data": {
      "text/html": [
       "<div>\n",
       "<style scoped>\n",
       "    .dataframe tbody tr th:only-of-type {\n",
       "        vertical-align: middle;\n",
       "    }\n",
       "\n",
       "    .dataframe tbody tr th {\n",
       "        vertical-align: top;\n",
       "    }\n",
       "\n",
       "    .dataframe thead th {\n",
       "        text-align: right;\n",
       "    }\n",
       "</style>\n",
       "<table border=\"1\" class=\"dataframe\">\n",
       "  <thead>\n",
       "    <tr style=\"text-align: right;\">\n",
       "      <th></th>\n",
       "      <th>Person ID</th>\n",
       "      <th>Gender</th>\n",
       "      <th>Age</th>\n",
       "      <th>Occupation</th>\n",
       "      <th>Sleep Duration</th>\n",
       "      <th>Quality of Sleep</th>\n",
       "      <th>Physical Activity Level</th>\n",
       "      <th>Stress Level</th>\n",
       "      <th>BMI Category</th>\n",
       "      <th>Blood Pressure</th>\n",
       "      <th>Heart Rate</th>\n",
       "      <th>Daily Steps</th>\n",
       "      <th>Sleep Disorder</th>\n",
       "    </tr>\n",
       "  </thead>\n",
       "  <tbody>\n",
       "    <tr>\n",
       "      <th>0</th>\n",
       "      <td>1</td>\n",
       "      <td>Male</td>\n",
       "      <td>27</td>\n",
       "      <td>Software Engineer</td>\n",
       "      <td>6.1</td>\n",
       "      <td>6</td>\n",
       "      <td>42</td>\n",
       "      <td>6</td>\n",
       "      <td>Overweight</td>\n",
       "      <td>126/83</td>\n",
       "      <td>77</td>\n",
       "      <td>4200</td>\n",
       "      <td>NaN</td>\n",
       "    </tr>\n",
       "    <tr>\n",
       "      <th>1</th>\n",
       "      <td>2</td>\n",
       "      <td>Male</td>\n",
       "      <td>28</td>\n",
       "      <td>Doctor</td>\n",
       "      <td>6.2</td>\n",
       "      <td>6</td>\n",
       "      <td>60</td>\n",
       "      <td>8</td>\n",
       "      <td>Normal</td>\n",
       "      <td>125/80</td>\n",
       "      <td>75</td>\n",
       "      <td>10000</td>\n",
       "      <td>NaN</td>\n",
       "    </tr>\n",
       "    <tr>\n",
       "      <th>2</th>\n",
       "      <td>3</td>\n",
       "      <td>Male</td>\n",
       "      <td>28</td>\n",
       "      <td>Doctor</td>\n",
       "      <td>6.2</td>\n",
       "      <td>6</td>\n",
       "      <td>60</td>\n",
       "      <td>8</td>\n",
       "      <td>Normal</td>\n",
       "      <td>125/80</td>\n",
       "      <td>75</td>\n",
       "      <td>10000</td>\n",
       "      <td>NaN</td>\n",
       "    </tr>\n",
       "    <tr>\n",
       "      <th>3</th>\n",
       "      <td>4</td>\n",
       "      <td>Male</td>\n",
       "      <td>28</td>\n",
       "      <td>Sales Representative</td>\n",
       "      <td>5.9</td>\n",
       "      <td>4</td>\n",
       "      <td>30</td>\n",
       "      <td>8</td>\n",
       "      <td>Obese</td>\n",
       "      <td>140/90</td>\n",
       "      <td>85</td>\n",
       "      <td>3000</td>\n",
       "      <td>Sleep Apnea</td>\n",
       "    </tr>\n",
       "    <tr>\n",
       "      <th>4</th>\n",
       "      <td>5</td>\n",
       "      <td>Male</td>\n",
       "      <td>28</td>\n",
       "      <td>Sales Representative</td>\n",
       "      <td>5.9</td>\n",
       "      <td>4</td>\n",
       "      <td>30</td>\n",
       "      <td>8</td>\n",
       "      <td>Obese</td>\n",
       "      <td>140/90</td>\n",
       "      <td>85</td>\n",
       "      <td>3000</td>\n",
       "      <td>Sleep Apnea</td>\n",
       "    </tr>\n",
       "  </tbody>\n",
       "</table>\n",
       "</div>"
      ],
      "text/plain": [
       "   Person ID Gender  Age            Occupation  Sleep Duration  \\\n",
       "0          1   Male   27     Software Engineer             6.1   \n",
       "1          2   Male   28                Doctor             6.2   \n",
       "2          3   Male   28                Doctor             6.2   \n",
       "3          4   Male   28  Sales Representative             5.9   \n",
       "4          5   Male   28  Sales Representative             5.9   \n",
       "\n",
       "   Quality of Sleep  Physical Activity Level  Stress Level BMI Category  \\\n",
       "0                 6                       42             6   Overweight   \n",
       "1                 6                       60             8       Normal   \n",
       "2                 6                       60             8       Normal   \n",
       "3                 4                       30             8        Obese   \n",
       "4                 4                       30             8        Obese   \n",
       "\n",
       "  Blood Pressure  Heart Rate  Daily Steps Sleep Disorder  \n",
       "0         126/83          77         4200            NaN  \n",
       "1         125/80          75        10000            NaN  \n",
       "2         125/80          75        10000            NaN  \n",
       "3         140/90          85         3000    Sleep Apnea  \n",
       "4         140/90          85         3000    Sleep Apnea  "
      ]
     },
     "execution_count": 215,
     "metadata": {},
     "output_type": "execute_result"
    }
   ],
   "source": [
    "sleep_df.head()"
   ]
  },
  {
   "cell_type": "code",
   "execution_count": 217,
   "id": "ffbc2147-3714-409c-8ced-f125b515268f",
   "metadata": {},
   "outputs": [
    {
     "data": {
      "text/plain": [
       "374"
      ]
     },
     "execution_count": 217,
     "metadata": {},
     "output_type": "execute_result"
    }
   ],
   "source": [
    "# Total de linhas\n",
    "len(sleep_df)"
   ]
  },
  {
   "cell_type": "markdown",
   "id": "689191d6-2033-4932-a8de-01ef600f13ef",
   "metadata": {},
   "source": [
    "# Parte 3 - Análise dos dados"
   ]
  },
  {
   "cell_type": "markdown",
   "id": "f0853b37-28d5-4f8e-a853-a3776d76f73b",
   "metadata": {},
   "source": [
    "### Agrupamento dos dados"
   ]
  },
  {
   "cell_type": "markdown",
   "id": "015cccc0-d829-4d1e-abb7-6b82ce0e3cdf",
   "metadata": {},
   "source": [
    "Analisando se há dados nulos"
   ]
  },
  {
   "cell_type": "code",
   "execution_count": 219,
   "id": "e5feac32-cca9-4cae-96e9-46b2573d1d49",
   "metadata": {},
   "outputs": [
    {
     "name": "stdout",
     "output_type": "stream",
     "text": [
      "Person ID                    0\n",
      "Gender                       0\n",
      "Age                          0\n",
      "Occupation                   0\n",
      "Sleep Duration               0\n",
      "Quality of Sleep             0\n",
      "Physical Activity Level      0\n",
      "Stress Level                 0\n",
      "BMI Category                 0\n",
      "Blood Pressure               0\n",
      "Heart Rate                   0\n",
      "Daily Steps                  0\n",
      "Sleep Disorder             219\n",
      "dtype: int64\n"
     ]
    }
   ],
   "source": [
    "print(sleep_df.isnull().sum())"
   ]
  },
  {
   "cell_type": "markdown",
   "id": "c49dfbae-8702-435a-adb0-5a3ba41b3090",
   "metadata": {},
   "source": [
    "Filtrando somente pelas pessoas que não tem distúbrio do sono"
   ]
  },
  {
   "cell_type": "code",
   "execution_count": 222,
   "id": "8d3f0353-370e-4e6c-ac36-767805565220",
   "metadata": {},
   "outputs": [],
   "source": [
    "disorder_df_false = sleep_df[sleep_df['Sleep Disorder'].isnull()]"
   ]
  },
  {
   "cell_type": "code",
   "execution_count": 224,
   "id": "e9d8f78a-3be3-468b-902a-1593e7013ce4",
   "metadata": {},
   "outputs": [
    {
     "name": "stdout",
     "output_type": "stream",
     "text": [
      "219\n"
     ]
    }
   ],
   "source": [
    "print(len(disorder_df_false))"
   ]
  },
  {
   "cell_type": "markdown",
   "id": "945d5327-6e07-49ce-b099-9996c4bca5b5",
   "metadata": {},
   "source": [
    "Filtrar pelas pessoas que tem distúrbio do sono"
   ]
  },
  {
   "cell_type": "code",
   "execution_count": 227,
   "id": "ae9a602e-e2a0-4fb3-bc74-c677fa1393cf",
   "metadata": {},
   "outputs": [],
   "source": [
    "# Filtrar apenas as linhas onde 'Sleep Disorder' não é nulo\n",
    "df_disorder = sleep_df[sleep_df['Sleep Disorder'].notnull()]"
   ]
  },
  {
   "cell_type": "code",
   "execution_count": 229,
   "id": "7cfe059a-4408-49b6-a800-e38289beb6db",
   "metadata": {},
   "outputs": [
    {
     "name": "stdout",
     "output_type": "stream",
     "text": [
      "155\n"
     ]
    }
   ],
   "source": [
    "print(len(df_disorder))"
   ]
  },
  {
   "cell_type": "markdown",
   "id": "c02c06c9-9231-4910-987a-da0ae2110a0c",
   "metadata": {},
   "source": [
    "## Média de Idade por Distúrbio de Sono"
   ]
  },
  {
   "cell_type": "code",
   "execution_count": 231,
   "id": "668b66b1-0325-4f22-8e93-9d3eeee0d939",
   "metadata": {},
   "outputs": [
    {
     "data": {
      "text/html": [
       "<div>\n",
       "<style scoped>\n",
       "    .dataframe tbody tr th:only-of-type {\n",
       "        vertical-align: middle;\n",
       "    }\n",
       "\n",
       "    .dataframe tbody tr th {\n",
       "        vertical-align: top;\n",
       "    }\n",
       "\n",
       "    .dataframe thead th {\n",
       "        text-align: right;\n",
       "    }\n",
       "</style>\n",
       "<table border=\"1\" class=\"dataframe\">\n",
       "  <thead>\n",
       "    <tr style=\"text-align: right;\">\n",
       "      <th></th>\n",
       "      <th>Sleep Disorder</th>\n",
       "      <th>Age</th>\n",
       "    </tr>\n",
       "  </thead>\n",
       "  <tbody>\n",
       "    <tr>\n",
       "      <th>0</th>\n",
       "      <td>Insomnia</td>\n",
       "      <td>43.519481</td>\n",
       "    </tr>\n",
       "    <tr>\n",
       "      <th>1</th>\n",
       "      <td>Sleep Apnea</td>\n",
       "      <td>49.705128</td>\n",
       "    </tr>\n",
       "  </tbody>\n",
       "</table>\n",
       "</div>"
      ],
      "text/plain": [
       "  Sleep Disorder        Age\n",
       "0       Insomnia  43.519481\n",
       "1    Sleep Apnea  49.705128"
      ]
     },
     "execution_count": 231,
     "metadata": {},
     "output_type": "execute_result"
    }
   ],
   "source": [
    "grouped_data = df_disorder.groupby('Sleep Disorder')['Age'].mean().reset_index()\n",
    "grouped_data"
   ]
  },
  {
   "cell_type": "markdown",
   "id": "9aac26f2-c742-4c65-aa0e-7248c8b5e6b1",
   "metadata": {},
   "source": [
    "### Distúbio do Sono por Gênero"
   ]
  },
  {
   "cell_type": "code",
   "execution_count": 233,
   "id": "0beb51f8-b1a1-4af1-a122-e4115107f4c6",
   "metadata": {},
   "outputs": [
    {
     "data": {
      "text/html": [
       "<div>\n",
       "<style scoped>\n",
       "    .dataframe tbody tr th:only-of-type {\n",
       "        vertical-align: middle;\n",
       "    }\n",
       "\n",
       "    .dataframe tbody tr th {\n",
       "        vertical-align: top;\n",
       "    }\n",
       "\n",
       "    .dataframe thead th {\n",
       "        text-align: right;\n",
       "    }\n",
       "</style>\n",
       "<table border=\"1\" class=\"dataframe\">\n",
       "  <thead>\n",
       "    <tr style=\"text-align: right;\">\n",
       "      <th></th>\n",
       "      <th>Gender</th>\n",
       "      <th>Sleep Disorder</th>\n",
       "      <th>Amount</th>\n",
       "    </tr>\n",
       "  </thead>\n",
       "  <tbody>\n",
       "    <tr>\n",
       "      <th>0</th>\n",
       "      <td>Female</td>\n",
       "      <td>Insomnia</td>\n",
       "      <td>36</td>\n",
       "    </tr>\n",
       "    <tr>\n",
       "      <th>1</th>\n",
       "      <td>Female</td>\n",
       "      <td>Sleep Apnea</td>\n",
       "      <td>67</td>\n",
       "    </tr>\n",
       "    <tr>\n",
       "      <th>2</th>\n",
       "      <td>Male</td>\n",
       "      <td>Insomnia</td>\n",
       "      <td>41</td>\n",
       "    </tr>\n",
       "    <tr>\n",
       "      <th>3</th>\n",
       "      <td>Male</td>\n",
       "      <td>Sleep Apnea</td>\n",
       "      <td>11</td>\n",
       "    </tr>\n",
       "  </tbody>\n",
       "</table>\n",
       "</div>"
      ],
      "text/plain": [
       "   Gender Sleep Disorder  Amount\n",
       "0  Female       Insomnia      36\n",
       "1  Female    Sleep Apnea      67\n",
       "2    Male       Insomnia      41\n",
       "3    Male    Sleep Apnea      11"
      ]
     },
     "execution_count": 233,
     "metadata": {},
     "output_type": "execute_result"
    }
   ],
   "source": [
    "count_by_gender_disorder = df_disorder.groupby(['Gender', 'Sleep Disorder']).size().reset_index(name='Amount')\n",
    "count_by_gender_disorder"
   ]
  },
  {
   "cell_type": "markdown",
   "id": "ef35b9b7-fc72-4e76-9a32-3bbca6473c9e",
   "metadata": {},
   "source": [
    "### Distúrbio de sono por profissão"
   ]
  },
  {
   "cell_type": "code",
   "execution_count": 235,
   "id": "e1934429-f9c4-4024-b43c-971f52f32f57",
   "metadata": {},
   "outputs": [
    {
     "data": {
      "text/html": [
       "<div>\n",
       "<style scoped>\n",
       "    .dataframe tbody tr th:only-of-type {\n",
       "        vertical-align: middle;\n",
       "    }\n",
       "\n",
       "    .dataframe tbody tr th {\n",
       "        vertical-align: top;\n",
       "    }\n",
       "\n",
       "    .dataframe thead th {\n",
       "        text-align: right;\n",
       "    }\n",
       "</style>\n",
       "<table border=\"1\" class=\"dataframe\">\n",
       "  <thead>\n",
       "    <tr style=\"text-align: right;\">\n",
       "      <th></th>\n",
       "      <th>Occupation</th>\n",
       "      <th>Amount of Person</th>\n",
       "    </tr>\n",
       "  </thead>\n",
       "  <tbody>\n",
       "    <tr>\n",
       "      <th>0</th>\n",
       "      <td>Accountant</td>\n",
       "      <td>7</td>\n",
       "    </tr>\n",
       "    <tr>\n",
       "      <th>1</th>\n",
       "      <td>Doctor</td>\n",
       "      <td>7</td>\n",
       "    </tr>\n",
       "    <tr>\n",
       "      <th>2</th>\n",
       "      <td>Engineer</td>\n",
       "      <td>6</td>\n",
       "    </tr>\n",
       "    <tr>\n",
       "      <th>3</th>\n",
       "      <td>Lawyer</td>\n",
       "      <td>5</td>\n",
       "    </tr>\n",
       "    <tr>\n",
       "      <th>4</th>\n",
       "      <td>Nurse</td>\n",
       "      <td>64</td>\n",
       "    </tr>\n",
       "    <tr>\n",
       "      <th>5</th>\n",
       "      <td>Sales Representative</td>\n",
       "      <td>2</td>\n",
       "    </tr>\n",
       "    <tr>\n",
       "      <th>6</th>\n",
       "      <td>Salesperson</td>\n",
       "      <td>30</td>\n",
       "    </tr>\n",
       "    <tr>\n",
       "      <th>7</th>\n",
       "      <td>Scientist</td>\n",
       "      <td>2</td>\n",
       "    </tr>\n",
       "    <tr>\n",
       "      <th>8</th>\n",
       "      <td>Software Engineer</td>\n",
       "      <td>1</td>\n",
       "    </tr>\n",
       "    <tr>\n",
       "      <th>9</th>\n",
       "      <td>Teacher</td>\n",
       "      <td>31</td>\n",
       "    </tr>\n",
       "  </tbody>\n",
       "</table>\n",
       "</div>"
      ],
      "text/plain": [
       "             Occupation  Amount of Person\n",
       "0            Accountant                 7\n",
       "1                Doctor                 7\n",
       "2              Engineer                 6\n",
       "3                Lawyer                 5\n",
       "4                 Nurse                64\n",
       "5  Sales Representative                 2\n",
       "6           Salesperson                30\n",
       "7             Scientist                 2\n",
       "8     Software Engineer                 1\n",
       "9               Teacher                31"
      ]
     },
     "execution_count": 235,
     "metadata": {},
     "output_type": "execute_result"
    }
   ],
   "source": [
    "# Agrupar por 'Occupation' e contar o número de ocorrências\n",
    "count_by_occupation = df_disorder.groupby('Occupation').size().reset_index(name='Amount of Person')\n",
    "count_by_occupation"
   ]
  },
  {
   "cell_type": "markdown",
   "id": "488ca95a-d59b-4397-a4b1-7e8537a20937",
   "metadata": {},
   "source": [
    "### Distúrbio de sono por idade e gênero"
   ]
  },
  {
   "cell_type": "code",
   "execution_count": 237,
   "id": "d8f91924-79a8-438a-b3be-e8939219afca",
   "metadata": {},
   "outputs": [
    {
     "data": {
      "text/html": [
       "<div>\n",
       "<style scoped>\n",
       "    .dataframe tbody tr th:only-of-type {\n",
       "        vertical-align: middle;\n",
       "    }\n",
       "\n",
       "    .dataframe tbody tr th {\n",
       "        vertical-align: top;\n",
       "    }\n",
       "\n",
       "    .dataframe thead th {\n",
       "        text-align: right;\n",
       "    }\n",
       "</style>\n",
       "<table border=\"1\" class=\"dataframe\">\n",
       "  <thead>\n",
       "    <tr style=\"text-align: right;\">\n",
       "      <th></th>\n",
       "      <th>Sleep Disorder</th>\n",
       "      <th>Age</th>\n",
       "      <th>counts</th>\n",
       "    </tr>\n",
       "  </thead>\n",
       "  <tbody>\n",
       "    <tr>\n",
       "      <th>0</th>\n",
       "      <td>Insomnia</td>\n",
       "      <td>28</td>\n",
       "      <td>1</td>\n",
       "    </tr>\n",
       "    <tr>\n",
       "      <th>1</th>\n",
       "      <td>Insomnia</td>\n",
       "      <td>29</td>\n",
       "      <td>2</td>\n",
       "    </tr>\n",
       "    <tr>\n",
       "      <th>2</th>\n",
       "      <td>Insomnia</td>\n",
       "      <td>30</td>\n",
       "      <td>1</td>\n",
       "    </tr>\n",
       "    <tr>\n",
       "      <th>3</th>\n",
       "      <td>Insomnia</td>\n",
       "      <td>33</td>\n",
       "      <td>1</td>\n",
       "    </tr>\n",
       "    <tr>\n",
       "      <th>4</th>\n",
       "      <td>Insomnia</td>\n",
       "      <td>36</td>\n",
       "      <td>2</td>\n",
       "    </tr>\n",
       "    <tr>\n",
       "      <th>5</th>\n",
       "      <td>Insomnia</td>\n",
       "      <td>39</td>\n",
       "      <td>2</td>\n",
       "    </tr>\n",
       "    <tr>\n",
       "      <th>6</th>\n",
       "      <td>Insomnia</td>\n",
       "      <td>41</td>\n",
       "      <td>1</td>\n",
       "    </tr>\n",
       "    <tr>\n",
       "      <th>7</th>\n",
       "      <td>Insomnia</td>\n",
       "      <td>42</td>\n",
       "      <td>1</td>\n",
       "    </tr>\n",
       "    <tr>\n",
       "      <th>8</th>\n",
       "      <td>Insomnia</td>\n",
       "      <td>43</td>\n",
       "      <td>17</td>\n",
       "    </tr>\n",
       "    <tr>\n",
       "      <th>9</th>\n",
       "      <td>Insomnia</td>\n",
       "      <td>44</td>\n",
       "      <td>28</td>\n",
       "    </tr>\n",
       "    <tr>\n",
       "      <th>10</th>\n",
       "      <td>Insomnia</td>\n",
       "      <td>45</td>\n",
       "      <td>11</td>\n",
       "    </tr>\n",
       "    <tr>\n",
       "      <th>11</th>\n",
       "      <td>Insomnia</td>\n",
       "      <td>48</td>\n",
       "      <td>2</td>\n",
       "    </tr>\n",
       "    <tr>\n",
       "      <th>12</th>\n",
       "      <td>Insomnia</td>\n",
       "      <td>50</td>\n",
       "      <td>1</td>\n",
       "    </tr>\n",
       "    <tr>\n",
       "      <th>13</th>\n",
       "      <td>Insomnia</td>\n",
       "      <td>52</td>\n",
       "      <td>6</td>\n",
       "    </tr>\n",
       "    <tr>\n",
       "      <th>14</th>\n",
       "      <td>Insomnia</td>\n",
       "      <td>53</td>\n",
       "      <td>1</td>\n",
       "    </tr>\n",
       "    <tr>\n",
       "      <th>15</th>\n",
       "      <td>Sleep Apnea</td>\n",
       "      <td>28</td>\n",
       "      <td>2</td>\n",
       "    </tr>\n",
       "    <tr>\n",
       "      <th>16</th>\n",
       "      <td>Sleep Apnea</td>\n",
       "      <td>29</td>\n",
       "      <td>2</td>\n",
       "    </tr>\n",
       "    <tr>\n",
       "      <th>17</th>\n",
       "      <td>Sleep Apnea</td>\n",
       "      <td>30</td>\n",
       "      <td>1</td>\n",
       "    </tr>\n",
       "    <tr>\n",
       "      <th>18</th>\n",
       "      <td>Sleep Apnea</td>\n",
       "      <td>31</td>\n",
       "      <td>1</td>\n",
       "    </tr>\n",
       "    <tr>\n",
       "      <th>19</th>\n",
       "      <td>Sleep Apnea</td>\n",
       "      <td>34</td>\n",
       "      <td>2</td>\n",
       "    </tr>\n",
       "    <tr>\n",
       "      <th>20</th>\n",
       "      <td>Sleep Apnea</td>\n",
       "      <td>35</td>\n",
       "      <td>1</td>\n",
       "    </tr>\n",
       "    <tr>\n",
       "      <th>21</th>\n",
       "      <td>Sleep Apnea</td>\n",
       "      <td>36</td>\n",
       "      <td>2</td>\n",
       "    </tr>\n",
       "    <tr>\n",
       "      <th>22</th>\n",
       "      <td>Sleep Apnea</td>\n",
       "      <td>38</td>\n",
       "      <td>2</td>\n",
       "    </tr>\n",
       "    <tr>\n",
       "      <th>23</th>\n",
       "      <td>Sleep Apnea</td>\n",
       "      <td>42</td>\n",
       "      <td>2</td>\n",
       "    </tr>\n",
       "    <tr>\n",
       "      <th>24</th>\n",
       "      <td>Sleep Apnea</td>\n",
       "      <td>43</td>\n",
       "      <td>2</td>\n",
       "    </tr>\n",
       "    <tr>\n",
       "      <th>25</th>\n",
       "      <td>Sleep Apnea</td>\n",
       "      <td>48</td>\n",
       "      <td>1</td>\n",
       "    </tr>\n",
       "    <tr>\n",
       "      <th>26</th>\n",
       "      <td>Sleep Apnea</td>\n",
       "      <td>49</td>\n",
       "      <td>10</td>\n",
       "    </tr>\n",
       "    <tr>\n",
       "      <th>27</th>\n",
       "      <td>Sleep Apnea</td>\n",
       "      <td>50</td>\n",
       "      <td>17</td>\n",
       "    </tr>\n",
       "    <tr>\n",
       "      <th>28</th>\n",
       "      <td>Sleep Apnea</td>\n",
       "      <td>51</td>\n",
       "      <td>3</td>\n",
       "    </tr>\n",
       "    <tr>\n",
       "      <th>29</th>\n",
       "      <td>Sleep Apnea</td>\n",
       "      <td>55</td>\n",
       "      <td>2</td>\n",
       "    </tr>\n",
       "    <tr>\n",
       "      <th>30</th>\n",
       "      <td>Sleep Apnea</td>\n",
       "      <td>57</td>\n",
       "      <td>8</td>\n",
       "    </tr>\n",
       "    <tr>\n",
       "      <th>31</th>\n",
       "      <td>Sleep Apnea</td>\n",
       "      <td>58</td>\n",
       "      <td>6</td>\n",
       "    </tr>\n",
       "    <tr>\n",
       "      <th>32</th>\n",
       "      <td>Sleep Apnea</td>\n",
       "      <td>59</td>\n",
       "      <td>14</td>\n",
       "    </tr>\n",
       "  </tbody>\n",
       "</table>\n",
       "</div>"
      ],
      "text/plain": [
       "   Sleep Disorder  Age  counts\n",
       "0        Insomnia   28       1\n",
       "1        Insomnia   29       2\n",
       "2        Insomnia   30       1\n",
       "3        Insomnia   33       1\n",
       "4        Insomnia   36       2\n",
       "5        Insomnia   39       2\n",
       "6        Insomnia   41       1\n",
       "7        Insomnia   42       1\n",
       "8        Insomnia   43      17\n",
       "9        Insomnia   44      28\n",
       "10       Insomnia   45      11\n",
       "11       Insomnia   48       2\n",
       "12       Insomnia   50       1\n",
       "13       Insomnia   52       6\n",
       "14       Insomnia   53       1\n",
       "15    Sleep Apnea   28       2\n",
       "16    Sleep Apnea   29       2\n",
       "17    Sleep Apnea   30       1\n",
       "18    Sleep Apnea   31       1\n",
       "19    Sleep Apnea   34       2\n",
       "20    Sleep Apnea   35       1\n",
       "21    Sleep Apnea   36       2\n",
       "22    Sleep Apnea   38       2\n",
       "23    Sleep Apnea   42       2\n",
       "24    Sleep Apnea   43       2\n",
       "25    Sleep Apnea   48       1\n",
       "26    Sleep Apnea   49      10\n",
       "27    Sleep Apnea   50      17\n",
       "28    Sleep Apnea   51       3\n",
       "29    Sleep Apnea   55       2\n",
       "30    Sleep Apnea   57       8\n",
       "31    Sleep Apnea   58       6\n",
       "32    Sleep Apnea   59      14"
      ]
     },
     "execution_count": 237,
     "metadata": {},
     "output_type": "execute_result"
    }
   ],
   "source": [
    "# Agrupar por 'Sleep disorder' e 'age'\n",
    "age_disorder_counts = df_disorder.groupby(['Sleep Disorder', 'Age']).size().reset_index(name='counts')\n",
    "age_disorder_counts"
   ]
  },
  {
   "cell_type": "code",
   "execution_count": 239,
   "id": "b338d491-98c9-480c-a57a-6c17be95f8ba",
   "metadata": {},
   "outputs": [
    {
     "data": {
      "text/html": [
       "<div>\n",
       "<style scoped>\n",
       "    .dataframe tbody tr th:only-of-type {\n",
       "        vertical-align: middle;\n",
       "    }\n",
       "\n",
       "    .dataframe tbody tr th {\n",
       "        vertical-align: top;\n",
       "    }\n",
       "\n",
       "    .dataframe thead th {\n",
       "        text-align: right;\n",
       "    }\n",
       "</style>\n",
       "<table border=\"1\" class=\"dataframe\">\n",
       "  <thead>\n",
       "    <tr style=\"text-align: right;\">\n",
       "      <th></th>\n",
       "      <th>Sleep Disorder</th>\n",
       "      <th>Age</th>\n",
       "      <th>counts</th>\n",
       "    </tr>\n",
       "  </thead>\n",
       "  <tbody>\n",
       "    <tr>\n",
       "      <th>9</th>\n",
       "      <td>Insomnia</td>\n",
       "      <td>44</td>\n",
       "      <td>28</td>\n",
       "    </tr>\n",
       "    <tr>\n",
       "      <th>27</th>\n",
       "      <td>Sleep Apnea</td>\n",
       "      <td>50</td>\n",
       "      <td>17</td>\n",
       "    </tr>\n",
       "  </tbody>\n",
       "</table>\n",
       "</div>"
      ],
      "text/plain": [
       "   Sleep Disorder  Age  counts\n",
       "9        Insomnia   44      28\n",
       "27    Sleep Apnea   50      17"
      ]
     },
     "execution_count": 239,
     "metadata": {},
     "output_type": "execute_result"
    }
   ],
   "source": [
    "# Encontrar a idade mais afetada por cada tipo de distúrbio do sono\n",
    "most_affected_age = age_disorder_counts.loc[age_disorder_counts.groupby('Sleep Disorder')['counts'].idxmax()]\n",
    "\n",
    "most_affected_age"
   ]
  },
  {
   "cell_type": "markdown",
   "id": "d7730633-94ee-47b6-8083-ae59f22799a7",
   "metadata": {},
   "source": [
    "## Visualização de dados"
   ]
  },
  {
   "cell_type": "code",
   "execution_count": 241,
   "id": "6cffb333-9bfe-454e-9127-484769423545",
   "metadata": {},
   "outputs": [
    {
     "data": {
      "image/png": "[encoded data removed]",
      "text/plain": [
       "<Figure size 1000x600 with 1 Axes>"
      ]
     },
     "metadata": {},
     "output_type": "display_data"
    }
   ],
   "source": [
    "# Visualizar os dados agrupados usando seaborn\n",
    "plt.figure(figsize=(10, 6))\n",
    "sns.barplot(x='Sleep Disorder', y='Amount', hue='Gender', data=count_by_gender_disorder)\n",
    "plt.title('Divisão de pessoas com distúrbios do Sono Por Gênero')\n",
    "plt.xlabel('Distúrbio do Sono')\n",
    "plt.ylabel('Pessoas')\n",
    "plt.show()"
   ]
  },
  {
   "cell_type": "code",
   "execution_count": 243,
   "id": "1f01d57b-d135-4964-810f-c07af0a1060d",
   "metadata": {},
   "outputs": [
    {
     "data": {
      "image/png": "[encoded data removed]",
      "text/plain": [
       "<Figure size 1800x600 with 1 Axes>"
      ]
     },
     "metadata": {},
     "output_type": "display_data"
    }
   ],
   "source": [
    "# Agrupar por 'Occupation' e contar o número de ocorrências\n",
    "count_by_occupation = df_disorder.groupby('Occupation').size().reset_index(name='Count')\n",
    "\n",
    "# Visualizar os dados agrupados usando seaborn\n",
    "plt.figure(figsize=(18, 6))\n",
    "sns.barplot(x='Occupation', y='Count', data=count_by_occupation)\n",
    "plt.title('Número de Pessoas por Profissão com Distúrbio do Sono')\n",
    "plt.xlabel('Profissão')\n",
    "plt.ylabel('Pessoas')\n",
    "plt.show()"
   ]
  },
  {
   "cell_type": "code",
   "execution_count": 245,
   "id": "7bdadde1-ff1e-4e97-a294-2feaff8df6c9",
   "metadata": {},
   "outputs": [
    {
     "data": {
      "image/png": "[encoded data removed]",
      "text/plain": [
       "<Figure size 640x480 with 1 Axes>"
      ]
     },
     "metadata": {},
     "output_type": "display_data"
    }
   ],
   "source": [
    "df_disorder.pivot_table(index='Gender',columns='Sleep Disorder',values='Age',aggfunc='median').plot(kind='bar',\n",
    "                                                                                                   title='Idades mais afetadas por tipo de distúrbio do sono',\n",
    "                                                                                                    label='Age',alpha=.7)\n",
    "plt.show()"
   ]
  },
  {
   "cell_type": "code",
   "execution_count": null,
   "id": "c9bb9d7b-1212-4494-8274-775bc0a0f7ff",
   "metadata": {},
   "outputs": [],
   "source": []
  }
 ],
 "metadata": {
  "kernelspec": {
   "display_name": "Python [conda env:base] *",
   "language": "python",
   "name": "conda-base-py"
  },
  "language_info": {
   "codemirror_mode": {
    "name": "ipython",
    "version": 3
   },
   "file_extension": ".py",
   "mimetype": "text/x-python",
   "name": "python",
   "nbconvert_exporter": "python",
   "pygments_lexer": "ipython3",
   "version": "3.12.7"
  }
 },
 "nbformat": 4,
 "nbformat_minor": 5
}
