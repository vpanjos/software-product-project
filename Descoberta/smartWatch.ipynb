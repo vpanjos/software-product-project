{
 "cells": [
  {
   "cell_type": "markdown",
   "id": "09a2e5ef-438b-477f-a9e9-fb4d4a8b3516",
   "metadata": {},
   "source": [
    "# SmartWatch"
   ]
  },
  {
   "cell_type": "code",
   "execution_count": null,
   "id": "a130c3fd-e2e4-4d82-a181-4cbe9a51dfda",
   "metadata": {},
   "outputs": [],
   "source": [
    "import kagglehub\n",
    "\n",
    "# Download latest version\n",
    "path = kagglehub.dataset_download(\"mohammedarfathr/smartwatch-health-data-uncleaned\")\n",
    "\n",
    "print(\"Path to dataset files:\", path)"
   ]
  },
  {
   "cell_type": "code",
   "execution_count": null,
   "id": "ab96646f-d3e3-4185-a561-ee3b24f93ce1",
   "metadata": {},
   "outputs": [],
   "source": [
    "sw_df = pd.read_csv('dataset/unclean_smartwatch_health_data.csv') "
   ]
  },
  {
   "cell_type": "code",
   "execution_count": null,
   "id": "16e048a7-c159-4fda-8610-8ab64a79b468",
   "metadata": {},
   "outputs": [],
   "source": [
    "sw_df.head()"
   ]
  },
  {
   "cell_type": "code",
   "execution_count": null,
   "id": "45be4911-4e69-490b-89e6-3b6f2226b3e7",
   "metadata": {},
   "outputs": [],
   "source": [
    "sw_df.info()"
   ]
  }
 ],
 "metadata": {
  "kernelspec": {
   "display_name": "Python [conda env:base] *",
   "language": "python",
   "name": "conda-base-py"
  },
  "language_info": {
   "codemirror_mode": {
    "name": "ipython",
    "version": 3
   },
   "file_extension": ".py",
   "mimetype": "text/x-python",
   "name": "python",
   "nbconvert_exporter": "python",
   "pygments_lexer": "ipython3",
   "version": "3.12.7"
  }
 },
 "nbformat": 4,
 "nbformat_minor": 5
}
